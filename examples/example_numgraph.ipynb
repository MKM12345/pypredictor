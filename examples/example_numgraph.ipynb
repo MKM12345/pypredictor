{
 "cells": [
  {
   "cell_type": "code",
   "execution_count": 3,
   "metadata": {},
   "outputs": [
    {
     "ename": "ModuleNotFoundError",
     "evalue": "No module named 'pypredictor'",
     "output_type": "error",
     "traceback": [
      "\u001b[1;31m---------------------------------------------------------------------------\u001b[0m",
      "\u001b[1;31mModuleNotFoundError\u001b[0m                       Traceback (most recent call last)",
      "Cell \u001b[1;32mIn[3], line 9\u001b[0m\n\u001b[0;32m      1\u001b[0m \u001b[39m\"\"\"\u001b[39;00m\n\u001b[0;32m      2\u001b[0m \u001b[39mpypredictor 0.1.0\u001b[39;00m\n\u001b[0;32m      3\u001b[0m \n\u001b[1;32m   (...)\u001b[0m\n\u001b[0;32m      6\u001b[0m \u001b[39mexample_numgraph.ipynb - example usage of NumGraph\u001b[39;00m\n\u001b[0;32m      7\u001b[0m \u001b[39m\"\"\"\u001b[39;00m\n\u001b[1;32m----> 9\u001b[0m \u001b[39mfrom\u001b[39;00m \u001b[39mpypredictor\u001b[39;00m \u001b[39mimport\u001b[39;00m numgraph \u001b[39m# Import the necessary library\u001b[39;00m\n",
      "\u001b[1;31mModuleNotFoundError\u001b[0m: No module named 'pypredictor'"
     ]
    }
   ],
   "source": [
    "\"\"\"\n",
    "pypredictor 0.1.0\n",
    "\n",
    "© Hamd Waseem under the Apache Licence 2.0\n",
    "\n",
    "example_numgraph.ipynb - example usage of NumGraph\n",
    "\"\"\"\n",
    "\n",
    "from pypredictor import numgraph # Import the necessary library"
   ]
  },
  {
   "cell_type": "code",
   "execution_count": null,
   "metadata": {},
   "outputs": [],
   "source": [
    "pred = numgraph.NumGraph([1, 2, 3, 4, 5, 6, 7, 8, 9])"
   ]
  },
  {
   "attachments": {},
   "cell_type": "markdown",
   "metadata": {},
   "source": [
    "# Initisalisation of NumGraph\n",
    "\n",
    "Similar to NumPredictor, NumGraph is initalised in mostly the same way. However, you pass in the sequence in here instead of the amount of epochs, which is given in the `predict()` method."
   ]
  },
  {
   "cell_type": "code",
   "execution_count": null,
   "metadata": {},
   "outputs": [],
   "source": [
    "# Methods\n",
    "pred.set_data([1, 2, 3, 4, 5, 6, 7, 8, 9, 10])\n",
    "pred.to_dataframe()\n",
    "pred.get_normal_plot()\n",
    "pred.predict(5, epochs=500)"
   ]
  },
  {
   "attachments": {},
   "cell_type": "markdown",
   "metadata": {},
   "source": [
    "# NumGraph methods\n",
    "These are the four important methods that are part of `NumGraph`.\n",
    "* `set_data()` resets the sequence and replaces with a new one which you provide.\n",
    "* `to_dataframe()` returns a pandas DataFrame with your data.\n",
    "* `get_normal_plot()` returns the regular seaborn line graph without any predicted values.\n",
    "* `predict()` is almost exactly the same as `NumPredictor.predict()` but you pass in the amount of epochs here and not the sequence, and this will output a seaborn line graph."
   ]
  }
 ],
 "metadata": {
  "kernelspec": {
   "display_name": "Python 3",
   "language": "python",
   "name": "python3"
  },
  "language_info": {
   "codemirror_mode": {
    "name": "ipython",
    "version": 3
   },
   "file_extension": ".py",
   "mimetype": "text/x-python",
   "name": "python",
   "nbconvert_exporter": "python",
   "pygments_lexer": "ipython3",
   "version": "3.10.5"
  },
  "orig_nbformat": 4
 },
 "nbformat": 4,
 "nbformat_minor": 2
}
